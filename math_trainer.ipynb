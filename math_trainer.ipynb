{
 "cells": [
  {
   "cell_type": "code",
   "execution_count": 1,
   "metadata": {
    "ExecuteTime": {
     "end_time": "2019-06-13T12:51:25.049580Z",
     "start_time": "2019-06-13T12:51:24.840670Z"
    }
   },
   "outputs": [],
   "source": [
    "import numpy as np\n",
    "import time\n",
    "import random\n",
    "import math\n",
    "import sys\n",
    "\n",
    "from random import shuffle"
   ]
  },
  {
   "cell_type": "code",
   "execution_count": 2,
   "metadata": {
    "ExecuteTime": {
     "end_time": "2019-06-13T12:51:25.056097Z",
     "start_time": "2019-06-13T12:51:25.052704Z"
    }
   },
   "outputs": [],
   "source": [
    "def get_max_value_from_digits(digits):\n",
    "    max_value = ''\n",
    "    for _ in range(digits):\n",
    "        max_value += '9'\n",
    "    return int(max_value)"
   ]
  },
  {
   "cell_type": "code",
   "execution_count": 3,
   "metadata": {
    "ExecuteTime": {
     "end_time": "2019-06-13T12:51:25.087815Z",
     "start_time": "2019-06-13T12:51:25.058080Z"
    }
   },
   "outputs": [],
   "source": [
    "def addition_module(level):\n",
    "    summation = 0\n",
    "    addends = []\n",
    "    num_addends = 2\n",
    "    \n",
    "    if level == 0:\n",
    "        summation = random.randint(0,9)\n",
    "        addends.append(random.randint(0,summation))\n",
    "        addends.append(summation-addends[0])\n",
    "    elif level == 1:\n",
    "        addends.append(random.randint(0,9))\n",
    "        addends.append(random.randint(0,9))\n",
    "        summation = sum(addends)\n",
    "    elif level == 2:\n",
    "        summation = random.randint(0,99)\n",
    "        addends.append(random.randint(0,min(summation, 9)))\n",
    "        addends.append(summation-addends[0])\n",
    "    elif level == 3:\n",
    "        summation = random.randint(0,99)\n",
    "        addends.append(random.randint(0,summation))\n",
    "        addends.append(summation-addends[0])\n",
    "    elif level == 4:\n",
    "        addends.append(random.randint(0,99))\n",
    "        addends.append(random.randint(0,99))\n",
    "        summation = sum(addends)\n",
    "    elif level == 5:\n",
    "        for _ in range(3):\n",
    "            addends.append(random.randint(0,9))\n",
    "        summation = sum(addends)\n",
    "    elif level == 6:\n",
    "        summation = random.randint(0,99)\n",
    "        nums = []\n",
    "        for _ in range(2):\n",
    "            nums.append(random.random())\n",
    "        nums.insert(0,0)\n",
    "        nums.append(1)\n",
    "        nums.sort()\n",
    "        adjacent_nums = []\n",
    "        for i,num in enumerate(nums[1:]):\n",
    "            adjacent_nums.append(num - nums[i])\n",
    "        for num in adjacent_nums[:-1]:\n",
    "            addends.append(math.floor(num*summation))\n",
    "        addends.append(summation-sum(addends))\n",
    "    elif level == 7:\n",
    "        summation = random.randint(0,999)\n",
    "        addends.append(random.randint(0,min(summation, 99)))\n",
    "        addends.append(summation-addends[0])\n",
    "    elif level == 8:\n",
    "        addends.append(random.randint(0,9))\n",
    "        addends.append(round(random.random(), 1))\n",
    "        summation = sum(addends)\n",
    "    elif level == 9:\n",
    "        addends.append(round(random.random(), 1))\n",
    "        addends.append(round(random.random(), 1))\n",
    "        summation = round(sum(addends),1)\n",
    "    elif level == 10:\n",
    "        addends.append(round(random.random(), 1))\n",
    "        addends.append(round(random.random(), 2))\n",
    "        summation = round(sum(addends),2)\n",
    "    elif level == 11:\n",
    "        addends.append(round(random.random()*100, 1))\n",
    "        addends.append(round(random.random()*10, 2))\n",
    "        summation = round(sum(addends),2)\n",
    "    elif level == 12:\n",
    "        addends.append(round(random.random()*100, 2))\n",
    "        addends.append(round(random.random()*100, 2))\n",
    "        summation = round(sum(addends),2)\n",
    "    elif level == 13:\n",
    "        summation = random.randint(0,999)\n",
    "        nums = []\n",
    "        r = random.randint(1,3)\n",
    "        print(r)\n",
    "        for _ in range(r):\n",
    "            nums.append(random.random())\n",
    "        nums.insert(0,0)\n",
    "        nums.append(1)\n",
    "        nums.sort()\n",
    "        adjacent_nums = []\n",
    "        for i,num in enumerate(nums[1:]):\n",
    "            adjacent_nums.append(num - nums[i])\n",
    "        for num in adjacent_nums[:-1]:\n",
    "            addends.append(math.floor(num*summation))\n",
    "        addends.append(summation-sum(addends))\n",
    "    elif level == 14:\n",
    "        r = random.randint(2,4)\n",
    "        for _ in range(r):\n",
    "            addends.append(round(random.random()*100, 2))\n",
    "        summation = round(sum(addends),2)\n",
    "    \n",
    "    return summation, addends  \n",
    "    "
   ]
  },
  {
   "cell_type": "code",
   "execution_count": 4,
   "metadata": {
    "ExecuteTime": {
     "end_time": "2019-06-13T12:51:25.097927Z",
     "start_time": "2019-06-13T12:51:25.090496Z"
    }
   },
   "outputs": [],
   "source": [
    "def addition_module_a1(level):\n",
    "        \n",
    "    sum_digits = math.ceil((level+3)/3) #1\n",
    "    \n",
    "    summation = 0\n",
    "    num_addends = 2\n",
    "    \n",
    "    addends_num_digits = []\n",
    "    tracker = sum_digits\n",
    "    for _ in range(num_addends-1):\n",
    "        digits = math.ceil((level+3-sum_digits)/num_addends)\n",
    "        addends_num_digits.append(digits)\n",
    "        tracker += digits\n",
    "        \n",
    "    addends_num_digits.append(level+3-tracker)\n",
    "    \n",
    "    for digit in addends_num_digits[::-1]:\n",
    "        addends.append(get_max_value_from_digits(digit))\n",
    "        \n",
    "    max_sum = sum(addends)\n",
    "    if max_sum > get_max_value_from_digits(sum_digits):\n",
    "        max_sum = get_max_value_from_digits(sum_digits)\n",
    "    \n",
    "    print()\n",
    "    print(str(max_sum)+\" \"+str(addends))\n",
    "    \n",
    "    for i in addends:\n",
    "        i = random.randint(0,i)\n",
    "    \n",
    "    print(str(summation)+\" \"+str(addends))\n",
    "    "
   ]
  },
  {
   "cell_type": "code",
   "execution_count": 5,
   "metadata": {
    "ExecuteTime": {
     "end_time": "2019-06-13T12:51:25.107218Z",
     "start_time": "2019-06-13T12:51:25.100781Z"
    }
   },
   "outputs": [
    {
     "name": "stdout",
     "output_type": "stream",
     "text": [
      "2\n",
      "976 [186, 242, 548]\n",
      "3\n",
      "890 [215, 324, 171, 180]\n",
      "3\n",
      "511 [168, 68, 182, 93]\n",
      "1\n",
      "568 [530, 38]\n",
      "2\n",
      "175 [42, 62, 71]\n",
      "2\n",
      "885 [21, 647, 217]\n",
      "2\n",
      "834 [102, 105, 627]\n",
      "1\n",
      "380 [317, 63]\n",
      "2\n",
      "431 [302, 22, 107]\n",
      "3\n",
      "737 [14, 59, 470, 194]\n"
     ]
    }
   ],
   "source": [
    "\n",
    "for i in range(10):\n",
    "    summation, addends = addition_module(13)\n",
    "    print(summation, addends)\n",
    "\n",
    "    "
   ]
  },
  {
   "cell_type": "code",
   "execution_count": 7,
   "metadata": {
    "ExecuteTime": {
     "end_time": "2019-06-13T12:52:23.198273Z",
     "start_time": "2019-06-13T12:52:23.192773Z"
    }
   },
   "outputs": [
    {
     "name": "stdout",
     "output_type": "stream",
     "text": [
      "hi\n",
      "hi\n"
     ]
    }
   ],
   "source": [
    "for i in range(2):\n",
    "    print('hi')"
   ]
  },
  {
   "cell_type": "code",
   "execution_count": null,
   "metadata": {},
   "outputs": [],
   "source": []
  }
 ],
 "metadata": {
  "kernelspec": {
   "display_name": "Python 3",
   "language": "python",
   "name": "python3"
  },
  "language_info": {
   "codemirror_mode": {
    "name": "ipython",
    "version": 3
   },
   "file_extension": ".py",
   "mimetype": "text/x-python",
   "name": "python",
   "nbconvert_exporter": "python",
   "pygments_lexer": "ipython3",
   "version": "3.7.1"
  }
 },
 "nbformat": 4,
 "nbformat_minor": 2
}
